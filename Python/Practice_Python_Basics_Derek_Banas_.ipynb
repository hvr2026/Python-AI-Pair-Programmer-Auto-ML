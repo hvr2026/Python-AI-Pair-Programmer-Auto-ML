{
  "nbformat": 4,
  "nbformat_minor": 0,
  "metadata": {
    "colab": {
      "provenance": [],
      "gpuType": "T4",
      "include_colab_link": true
    },
    "kernelspec": {
      "name": "python3",
      "display_name": "Python 3"
    },
    "language_info": {
      "name": "python"
    },
    "accelerator": "GPU"
  },
  "cells": [
    {
      "cell_type": "markdown",
      "metadata": {
        "id": "view-in-github",
        "colab_type": "text"
      },
      "source": [
        "<a href=\"https://colab.research.google.com/github/hvr2026/Python-AI-Pair-Programmer-Auto-ML/blob/main/Python/Practice_Python_Basics_Derek_Banas_.ipynb\" target=\"_parent\"><img src=\"https://colab.research.google.com/assets/colab-badge.svg\" alt=\"Open In Colab\"/></a>"
      ]
    },
    {
      "cell_type": "code",
      "execution_count": 1,
      "metadata": {
        "id": "6ASC7wKIHuhZ"
      },
      "outputs": [],
      "source": [
        "import random, sys, time, math, os"
      ]
    },
    {
      "cell_type": "code",
      "source": [
        "print(\"Hello Python\")\n",
        "\n",
        "'''\n",
        "This is a multi-line comment\n",
        "'''"
      ],
      "metadata": {
        "colab": {
          "base_uri": "https://localhost:8080/",
          "height": 54
        },
        "id": "1gC9r-zdkcn9",
        "outputId": "4d786252-40ef-4c94-8488-b01411f70934"
      },
      "execution_count": 2,
      "outputs": [
        {
          "output_type": "stream",
          "name": "stdout",
          "text": [
            "Hello Python\n"
          ]
        },
        {
          "output_type": "execute_result",
          "data": {
            "text/plain": [
              "'\\nThis is a multi-line comment\\n'"
            ],
            "application/vnd.google.colaboratory.intrinsic+json": {
              "type": "string"
            }
          },
          "metadata": {},
          "execution_count": 2
        }
      ]
    },
    {
      "cell_type": "code",
      "source": [
        "name = \"Python\"\n",
        "print(name)"
      ],
      "metadata": {
        "colab": {
          "base_uri": "https://localhost:8080/"
        },
        "id": "7srYZVNZkkuz",
        "outputId": "09b76178-82a4-440c-91b7-1d91db9c16db"
      },
      "execution_count": 3,
      "outputs": [
        {
          "output_type": "stream",
          "name": "stdout",
          "text": [
            "Python\n"
          ]
        }
      ]
    },
    {
      "cell_type": "code",
      "source": [
        "print(\"13 + 2 =\", 13+2)\n",
        "print(\"13 - 2 =\", 13-2)\n",
        "print(\"13 * 2 =\", 13*2)\n",
        "print(\"13 / 2 =\", 13/2)\n",
        "print(\"13 % 2 =\", 13%2)\n",
        "print(\"13 ** 2 =\", 13**2)\n",
        "print(\"13 // 2 =\", 13//2)"
      ],
      "metadata": {
        "colab": {
          "base_uri": "https://localhost:8080/"
        },
        "id": "xd2d11vYkqa5",
        "outputId": "a47c793e-5be8-4a5e-8f43-b3dbd8a1dde8"
      },
      "execution_count": 4,
      "outputs": [
        {
          "output_type": "stream",
          "name": "stdout",
          "text": [
            "13 + 2 = 15\n",
            "13 - 2 = 11\n",
            "13 * 2 = 26\n",
            "13 / 2 = 6.5\n",
            "13 % 2 = 1\n",
            "13 ** 2 = 169\n",
            "13 // 2 = 6\n"
          ]
        }
      ]
    },
    {
      "cell_type": "code",
      "source": [
        "#Order of Operation states * and / is performed before + and -\n",
        "print(\"3 + 5 - 7 * 3 =\", 3 + 5 - 7 * 3)\n",
        "print(\"(3 + 5 - 7) * 3 =\", (3 + 5 - 7) * 3)"
      ],
      "metadata": {
        "colab": {
          "base_uri": "https://localhost:8080/"
        },
        "id": "eW2ESScFksHZ",
        "outputId": "1d53855e-aa6f-49f0-a2dc-6d0d5686e6c4"
      },
      "execution_count": 5,
      "outputs": [
        {
          "output_type": "stream",
          "name": "stdout",
          "text": [
            "3 + 5 - 7 * 3 = -13\n",
            "(3 + 5 - 7) * 3 = 3\n"
          ]
        }
      ]
    },
    {
      "cell_type": "code",
      "source": [
        "# A string is a string of characters surrounded by \" or '\n",
        "# If you must use a \" or ' between the same quote escape it with \\\n",
        "quote = \"\\\"Believe in yourself\\\"\"\n",
        "print(quote)"
      ],
      "metadata": {
        "colab": {
          "base_uri": "https://localhost:8080/"
        },
        "id": "e8GQsu64kuVD",
        "outputId": "e345bf80-3bcc-42bd-d65b-7acc423d2af9"
      },
      "execution_count": 6,
      "outputs": [
        {
          "output_type": "stream",
          "name": "stdout",
          "text": [
            "\"Believe in yourself\"\n"
          ]
        }
      ]
    },
    {
      "cell_type": "code",
      "source": [
        "# A multi-line quote\n",
        "multi_line_quote = ''', because the history of the world is the\n",
        " history of a few men who had faith in themselves\" '''"
      ],
      "metadata": {
        "id": "MVKwW5Qck035"
      },
      "execution_count": 7,
      "outputs": []
    },
    {
      "cell_type": "code",
      "source": [
        "print(quote + multi_line_quote)"
      ],
      "metadata": {
        "colab": {
          "base_uri": "https://localhost:8080/"
        },
        "id": "3_hnJIrolTJ0",
        "outputId": "4b40e61e-117f-4df6-d70d-fe851fbd0e07"
      },
      "execution_count": 8,
      "outputs": [
        {
          "output_type": "stream",
          "name": "stdout",
          "text": [
            "\"Believe in yourself\", because the history of the world is the\n",
            " history of a few men who had faith in themselves\" \n"
          ]
        }
      ]
    },
    {
      "cell_type": "code",
      "source": [
        "# To embed a string in output use %s\n",
        "print(\"%s: %s%s\" % ('I love this quotation',quote,multi_line_quote))"
      ],
      "metadata": {
        "colab": {
          "base_uri": "https://localhost:8080/"
        },
        "id": "ICGbEogqlYTZ",
        "outputId": "a281b266-be8d-473a-8535-19c260377df0"
      },
      "execution_count": 9,
      "outputs": [
        {
          "output_type": "stream",
          "name": "stdout",
          "text": [
            "I love this quotation: \"Believe in yourself\", because the history of the world is the\n",
            " history of a few men who had faith in themselves\" \n"
          ]
        }
      ]
    },
    {
      "cell_type": "code",
      "source": [
        "# To keep from printing newlines use end=\"\"\n",
        "print(\"The road never\",end=\"\")\n",
        "print(\"ends\")"
      ],
      "metadata": {
        "colab": {
          "base_uri": "https://localhost:8080/"
        },
        "id": "6ToV_LehlZis",
        "outputId": "853aa8a0-f016-41c2-cfeb-a7cac76699bd"
      },
      "execution_count": 10,
      "outputs": [
        {
          "output_type": "stream",
          "name": "stdout",
          "text": [
            "The road neverends\n"
          ]
        }
      ]
    },
    {
      "cell_type": "code",
      "source": [
        "# You can print a string multiple times with *\n",
        "print('Six\\n' * 6)"
      ],
      "metadata": {
        "colab": {
          "base_uri": "https://localhost:8080/"
        },
        "id": "JKuBRj8Plcj2",
        "outputId": "6299161c-56f3-4e49-e74d-467d98d84815"
      },
      "execution_count": 11,
      "outputs": [
        {
          "output_type": "stream",
          "name": "stdout",
          "text": [
            "Six\n",
            "Six\n",
            "Six\n",
            "Six\n",
            "Six\n",
            "Six\n",
            "\n"
          ]
        }
      ]
    },
    {
      "cell_type": "markdown",
      "source": [
        "LISTS"
      ],
      "metadata": {
        "id": "__4jMmBJPRsY"
      }
    },
    {
      "cell_type": "code",
      "source": [
        "# A list allows you to create a list of values and manipulate them\n",
        "# Each value has an index with the first one starting at 0"
      ],
      "metadata": {
        "id": "sKAk0oYxlh96"
      },
      "execution_count": 12,
      "outputs": []
    },
    {
      "cell_type": "code",
      "source": [
        "grocery_list = ['Juice', 'Tomatoes', 'Potatoes', 'Bananas']\n",
        "print('The first item is', grocery_list[1])"
      ],
      "metadata": {
        "colab": {
          "base_uri": "https://localhost:8080/"
        },
        "id": "8Ktgp9yhll6G",
        "outputId": "7ca6eb8d-aa99-4e21-f041-781c4490bba2"
      },
      "execution_count": 13,
      "outputs": [
        {
          "output_type": "stream",
          "name": "stdout",
          "text": [
            "The first item is Tomatoes\n"
          ]
        }
      ]
    },
    {
      "cell_type": "code",
      "source": [
        "# You can change the value stored in a list box\n",
        "grocery_list[0] = \"Green Juice\"\n",
        "print(grocery_list)"
      ],
      "metadata": {
        "colab": {
          "base_uri": "https://localhost:8080/"
        },
        "id": "IES2KGi_lueq",
        "outputId": "9081d04d-91ea-4fa6-f9c4-765c29d988dd"
      },
      "execution_count": 14,
      "outputs": [
        {
          "output_type": "stream",
          "name": "stdout",
          "text": [
            "['Green Juice', 'Tomatoes', 'Potatoes', 'Bananas']\n"
          ]
        }
      ]
    },
    {
      "cell_type": "code",
      "source": [
        "# You can get a subset of the list with [min:up to but not including max]\n",
        "\n",
        "print(grocery_list[:3])"
      ],
      "metadata": {
        "colab": {
          "base_uri": "https://localhost:8080/"
        },
        "id": "pdGk4WXXlxNP",
        "outputId": "646c52f5-16b5-4bff-de58-a65544e0904d"
      },
      "execution_count": 15,
      "outputs": [
        {
          "output_type": "stream",
          "name": "stdout",
          "text": [
            "['Green Juice', 'Tomatoes', 'Potatoes']\n"
          ]
        }
      ]
    },
    {
      "cell_type": "code",
      "source": [
        "# You can put any data type in a a list including a list\n",
        "other_events = ['Wash Car', 'Pick up Kids', 'Cash Check']\n",
        "to_do_list = [other_events, grocery_list]\n",
        "\n",
        "print(to_do_list)"
      ],
      "metadata": {
        "colab": {
          "base_uri": "https://localhost:8080/"
        },
        "id": "hw6_qOkalzoX",
        "outputId": "b03f4463-f8cc-4563-834c-6adb64ac6563"
      },
      "execution_count": 16,
      "outputs": [
        {
          "output_type": "stream",
          "name": "stdout",
          "text": [
            "[['Wash Car', 'Pick up Kids', 'Cash Check'], ['Green Juice', 'Tomatoes', 'Potatoes', 'Bananas']]\n"
          ]
        }
      ]
    },
    {
      "cell_type": "code",
      "source": [
        "# Get the second item in the second list (Boxes inside of boxes)\n",
        "print(to_do_list[1][1])"
      ],
      "metadata": {
        "colab": {
          "base_uri": "https://localhost:8080/"
        },
        "id": "cJbQzcBsl3TK",
        "outputId": "2ec044be-d38f-4fab-d002-58643163270b"
      },
      "execution_count": 17,
      "outputs": [
        {
          "output_type": "stream",
          "name": "stdout",
          "text": [
            "Tomatoes\n"
          ]
        }
      ]
    },
    {
      "cell_type": "code",
      "source": [
        "# You add values using append\n",
        "grocery_list.append('onions')\n",
        "print(to_do_list)"
      ],
      "metadata": {
        "colab": {
          "base_uri": "https://localhost:8080/"
        },
        "id": "c0nxi7gGmYi4",
        "outputId": "4af08077-8fd7-408f-dee6-c77d5eed96e4"
      },
      "execution_count": 18,
      "outputs": [
        {
          "output_type": "stream",
          "name": "stdout",
          "text": [
            "[['Wash Car', 'Pick up Kids', 'Cash Check'], ['Green Juice', 'Tomatoes', 'Potatoes', 'Bananas', 'onions']]\n"
          ]
        }
      ]
    },
    {
      "cell_type": "code",
      "source": [
        "# Insert item at given index\n",
        "grocery_list.insert(1, \"Pickle\")"
      ],
      "metadata": {
        "id": "ombRR3y9mZvx"
      },
      "execution_count": 20,
      "outputs": []
    },
    {
      "cell_type": "code",
      "source": [
        "# Sorts items in list\n",
        "grocery_list.sort()\n",
        "print(grocery_list)"
      ],
      "metadata": {
        "id": "t0U4_m6Tmb0h",
        "colab": {
          "base_uri": "https://localhost:8080/"
        },
        "outputId": "5172b750-cfa3-4f76-cf8b-7ac7c52d2cdb"
      },
      "execution_count": 21,
      "outputs": [
        {
          "output_type": "stream",
          "name": "stdout",
          "text": [
            "['Bananas', 'Green Juice', 'Pickle', 'Pickle', 'Potatoes', 'Tomatoes', 'onions']\n"
          ]
        }
      ]
    },
    {
      "cell_type": "code",
      "source": [
        "# Reverse sort items in list\n",
        "grocery_list.reverse()"
      ],
      "metadata": {
        "id": "Zv7L9s__mnPU"
      },
      "execution_count": 22,
      "outputs": []
    },
    {
      "cell_type": "code",
      "source": [
        "print(grocery_list)"
      ],
      "metadata": {
        "colab": {
          "base_uri": "https://localhost:8080/"
        },
        "id": "1A8e9W_0ePGl",
        "outputId": "a8a6deff-5194-443d-a3ae-bec0070d3dbe"
      },
      "execution_count": 23,
      "outputs": [
        {
          "output_type": "stream",
          "name": "stdout",
          "text": [
            "['onions', 'Tomatoes', 'Potatoes', 'Pickle', 'Pickle', 'Green Juice', 'Bananas']\n"
          ]
        }
      ]
    },
    {
      "cell_type": "code",
      "source": [
        "# del deletes an item at specified index\n",
        "del grocery_list[2]\n",
        "print(to_do_list)\n",
        "print(grocery_list)"
      ],
      "metadata": {
        "colab": {
          "base_uri": "https://localhost:8080/"
        },
        "id": "ldzlMY4ImpdZ",
        "outputId": "128222f4-569c-4742-a4d5-4923a30b1aee"
      },
      "execution_count": 24,
      "outputs": [
        {
          "output_type": "stream",
          "name": "stdout",
          "text": [
            "[['Wash Car', 'Pick up Kids', 'Cash Check'], ['onions', 'Tomatoes', 'Pickle', 'Pickle', 'Green Juice', 'Bananas']]\n",
            "['onions', 'Tomatoes', 'Pickle', 'Pickle', 'Green Juice', 'Bananas']\n"
          ]
        }
      ]
    },
    {
      "cell_type": "code",
      "source": [
        "# We can combine lists with a +\n",
        "to_do_list = other_events + grocery_list\n",
        "print(to_do_list)"
      ],
      "metadata": {
        "colab": {
          "base_uri": "https://localhost:8080/"
        },
        "id": "_ICP1h0tm3VG",
        "outputId": "12c3a981-d2d5-4551-8322-1e0a1fcf3f90"
      },
      "execution_count": 25,
      "outputs": [
        {
          "output_type": "stream",
          "name": "stdout",
          "text": [
            "['Wash Car', 'Pick up Kids', 'Cash Check', 'onions', 'Tomatoes', 'Pickle', 'Pickle', 'Green Juice', 'Bananas']\n"
          ]
        }
      ]
    },
    {
      "cell_type": "code",
      "source": [
        "# Get length of list\n",
        "print(len(to_do_list))\n"
      ],
      "metadata": {
        "colab": {
          "base_uri": "https://localhost:8080/"
        },
        "id": "DxPaRqfZm5Lq",
        "outputId": "dcbe5ee8-ac02-4a1a-cb9a-63ee1951c993"
      },
      "execution_count": 26,
      "outputs": [
        {
          "output_type": "stream",
          "name": "stdout",
          "text": [
            "9\n"
          ]
        }
      ]
    },
    {
      "cell_type": "code",
      "source": [
        "# Get the max item in list\n",
        "print(max(to_do_list))\n"
      ],
      "metadata": {
        "colab": {
          "base_uri": "https://localhost:8080/"
        },
        "id": "u5gLdre9m7LW",
        "outputId": "f1c24e6e-6279-4e05-f183-c361fedbcd38"
      },
      "execution_count": 27,
      "outputs": [
        {
          "output_type": "stream",
          "name": "stdout",
          "text": [
            "onions\n"
          ]
        }
      ]
    },
    {
      "cell_type": "code",
      "source": [
        "# Get the minimum item in list\n",
        "print(min(to_do_list))"
      ],
      "metadata": {
        "colab": {
          "base_uri": "https://localhost:8080/"
        },
        "id": "OhJAmYfTm8bW",
        "outputId": "287c592c-3555-46d2-c14b-3d033a556f4f"
      },
      "execution_count": 28,
      "outputs": [
        {
          "output_type": "stream",
          "name": "stdout",
          "text": [
            "Bananas\n"
          ]
        }
      ]
    },
    {
      "cell_type": "markdown",
      "source": [
        "TUPLES"
      ],
      "metadata": {
        "id": "n9wRZwbnPZMH"
      }
    },
    {
      "cell_type": "code",
      "source": [
        "pi_tuple = (3, 1, 4, 1, 5, 9)\n",
        "\n",
        "# Convert tuple into a list\n",
        "new_tuple = list(pi_tuple)"
      ],
      "metadata": {
        "id": "7Ajk1jhTnGzv"
      },
      "execution_count": 32,
      "outputs": []
    },
    {
      "cell_type": "code",
      "source": [
        "# Convert a list into a tuple\n",
        "# new_list = tuple(grocery_list)\n",
        "\n",
        "# tuples also have len(tuple), min(tuple) and max(tuple)\n",
        "\n",
        "# DICTIONARY or MAP -------------\n",
        "# Made up of values with a unique key for each value\n",
        "# Similar to lists, but you can't join dicts with a +"
      ],
      "metadata": {
        "id": "2FEvacTSnJJV"
      },
      "execution_count": 33,
      "outputs": []
    },
    {
      "cell_type": "code",
      "source": [
        "super_villains = {'Fiddler' : 'Isaac Bowin',\n",
        "                  'Captain Cold' : 'Leonard Snart',\n",
        "                  'Weather Wizard' : 'Mark Mardon',\n",
        "                  'Mirror Master' : 'Sam Scudder',\n",
        "                  'Pied Piper' : 'Thomas Peterson'}\n",
        "\n",
        "print(super_villains['Captain Cold'])"
      ],
      "metadata": {
        "colab": {
          "base_uri": "https://localhost:8080/"
        },
        "id": "vqvXpfjJnTHn",
        "outputId": "41cb7df6-bb19-42cb-984e-2bbb4ab0ba45"
      },
      "execution_count": 34,
      "outputs": [
        {
          "output_type": "stream",
          "name": "stdout",
          "text": [
            "Leonard Snart\n"
          ]
        }
      ]
    },
    {
      "cell_type": "code",
      "source": [
        "# Delete an entry\n",
        "del super_villains['Fiddler']\n",
        "print(super_villains)"
      ],
      "metadata": {
        "colab": {
          "base_uri": "https://localhost:8080/"
        },
        "id": "1LTOqdwtnX9Q",
        "outputId": "f0b04ded-10e3-49cb-d399-1bc5e8d984bd"
      },
      "execution_count": 35,
      "outputs": [
        {
          "output_type": "stream",
          "name": "stdout",
          "text": [
            "{'Captain Cold': 'Leonard Snart', 'Weather Wizard': 'Mark Mardon', 'Mirror Master': 'Sam Scudder', 'Pied Piper': 'Thomas Peterson'}\n"
          ]
        }
      ]
    },
    {
      "cell_type": "code",
      "source": [
        "# Replace a value\n",
        "super_villains['Pied Piper'] = 'Hartley Rathaway'"
      ],
      "metadata": {
        "id": "yqV5oVk_naH9"
      },
      "execution_count": 36,
      "outputs": []
    },
    {
      "cell_type": "code",
      "source": [
        "# Print the number of items in the dictionary\n",
        "print(len(super_villains))"
      ],
      "metadata": {
        "colab": {
          "base_uri": "https://localhost:8080/"
        },
        "id": "t-FqGXWuncTT",
        "outputId": "f2680aee-82ad-4e6e-fcf6-482ff3dd587d"
      },
      "execution_count": 37,
      "outputs": [
        {
          "output_type": "stream",
          "name": "stdout",
          "text": [
            "4\n"
          ]
        }
      ]
    },
    {
      "cell_type": "code",
      "source": [
        "# Get the value for the passed key\n",
        "print(super_villains.get(\"Pied Piper\"))"
      ],
      "metadata": {
        "colab": {
          "base_uri": "https://localhost:8080/"
        },
        "id": "tlWk6mJ9nlW1",
        "outputId": "4723c15e-10e7-4aa0-df8b-2f86d5c47bd1"
      },
      "execution_count": 38,
      "outputs": [
        {
          "output_type": "stream",
          "name": "stdout",
          "text": [
            "Hartley Rathaway\n"
          ]
        }
      ]
    },
    {
      "cell_type": "code",
      "source": [
        "# Get a list of dictionary keys\n",
        "print(super_villains.keys())"
      ],
      "metadata": {
        "colab": {
          "base_uri": "https://localhost:8080/"
        },
        "id": "6C5-oFa-nnbm",
        "outputId": "f9d8dc7c-d7df-4fb3-9591-30edec1ff3e1"
      },
      "execution_count": 39,
      "outputs": [
        {
          "output_type": "stream",
          "name": "stdout",
          "text": [
            "dict_keys(['Captain Cold', 'Weather Wizard', 'Mirror Master', 'Pied Piper'])\n"
          ]
        }
      ]
    },
    {
      "cell_type": "code",
      "source": [
        "# Get a list of dictionary values\n",
        "print(super_villains.values())"
      ],
      "metadata": {
        "colab": {
          "base_uri": "https://localhost:8080/"
        },
        "id": "MFqx_pFSntUO",
        "outputId": "6779a7c6-b8f8-4d33-ab59-02801d991179"
      },
      "execution_count": 40,
      "outputs": [
        {
          "output_type": "stream",
          "name": "stdout",
          "text": [
            "dict_values(['Leonard Snart', 'Mark Mardon', 'Sam Scudder', 'Hartley Rathaway'])\n"
          ]
        }
      ]
    },
    {
      "cell_type": "code",
      "source": [
        "# CONDITIONALS -------------\n",
        "# The if, else and elif statements are used to perform different\n",
        "# actions based off of conditions\n",
        "# Comparison Operators : ==, !=, >, <, >=, <=\n",
        "\n",
        "# The if statement will execute code if a condition is met\n",
        "# White space is used to group blocks of code in Python\n",
        "# Use the same number of proceeding spaces for blocks of code"
      ],
      "metadata": {
        "id": "3SJ8kNLGnuun"
      },
      "execution_count": 41,
      "outputs": []
    },
    {
      "cell_type": "code",
      "source": [
        "age = 35\n",
        "if age > 16 :\n",
        "    print('You are old enough to drive')"
      ],
      "metadata": {
        "colab": {
          "base_uri": "https://localhost:8080/"
        },
        "id": "xvTQnYB1nyXi",
        "outputId": "b994922d-c324-4d75-a362-07503ae1fb81"
      },
      "execution_count": 42,
      "outputs": [
        {
          "output_type": "stream",
          "name": "stdout",
          "text": [
            "You are old enough to drive\n"
          ]
        }
      ]
    },
    {
      "cell_type": "code",
      "source": [
        "# Use an if statement if you want to execute different code regardless\n",
        "# of whether the condition ws met or not"
      ],
      "metadata": {
        "id": "Lk4c2smdn0-_"
      },
      "execution_count": 43,
      "outputs": []
    },
    {
      "cell_type": "code",
      "source": [
        "if age > 16 :\n",
        "    print('You are old enough to drive')\n",
        "else :\n",
        "    print('You are not old enough to drive')"
      ],
      "metadata": {
        "colab": {
          "base_uri": "https://localhost:8080/"
        },
        "id": "Nep-gO5ln2gS",
        "outputId": "9188832f-4cf4-4697-c206-d47a666fb38c"
      },
      "execution_count": 44,
      "outputs": [
        {
          "output_type": "stream",
          "name": "stdout",
          "text": [
            "You are old enough to drive\n"
          ]
        }
      ]
    },
    {
      "cell_type": "code",
      "source": [
        "# If you want to check for multiple conditions use elif\n",
        "# If the first matches it won't check other conditions that follow"
      ],
      "metadata": {
        "id": "_pv0dCyIn360"
      },
      "execution_count": 45,
      "outputs": []
    },
    {
      "cell_type": "code",
      "source": [
        "if age >= 21 :\n",
        "    print('You are old enough to drive a tractor trailer')\n",
        "elif age >= 16:\n",
        "    print('You are old enough to drive a car')\n",
        "else :\n",
        "    print('You are not old enough to drive')\n"
      ],
      "metadata": {
        "colab": {
          "base_uri": "https://localhost:8080/"
        },
        "id": "eT5vLW5hn5hb",
        "outputId": "1ee7d82b-71f5-43c4-b0fb-22689973f7a3"
      },
      "execution_count": 46,
      "outputs": [
        {
          "output_type": "stream",
          "name": "stdout",
          "text": [
            "You are old enough to drive a tractor trailer\n"
          ]
        }
      ]
    },
    {
      "cell_type": "code",
      "source": [
        "# You can combine conditions with logical operators\n",
        "# Logical Operators : and, or, not\n"
      ],
      "metadata": {
        "id": "bQxiBUFAn6y4"
      },
      "execution_count": 47,
      "outputs": []
    },
    {
      "cell_type": "code",
      "source": [
        "\n",
        "\n",
        "if ((age >= 1) and (age <= 18)):\n",
        "    print(\"You get a birthday party\")\n",
        "elif (age == 21) or (age >= 65):\n",
        "    print(\"You get a birthday party\")\n",
        "elif not(age == 30):\n",
        "    print(\"You don't get a birthday party\")\n",
        "else:\n",
        "    print(\"You get a birthday party yeah\")"
      ],
      "metadata": {
        "id": "ByN-Qd3En9a6",
        "colab": {
          "base_uri": "https://localhost:8080/"
        },
        "outputId": "c9c9dc39-6d8d-4b78-88de-1968be89bf64"
      },
      "execution_count": 48,
      "outputs": [
        {
          "output_type": "stream",
          "name": "stdout",
          "text": [
            "You don't get a birthday party\n"
          ]
        }
      ]
    },
    {
      "cell_type": "code",
      "source": [
        "for x in range(0, 10):\n",
        "    print(x,'',end=\"\")\n"
      ],
      "metadata": {
        "colab": {
          "base_uri": "https://localhost:8080/"
        },
        "id": "eKcCRLJSn_Ip",
        "outputId": "b8ecf94b-e4b9-4bf5-9168-51e13570a6e1"
      },
      "execution_count": 49,
      "outputs": [
        {
          "output_type": "stream",
          "name": "stdout",
          "text": [
            "0 1 2 3 4 5 6 7 8 9 "
          ]
        }
      ]
    },
    {
      "cell_type": "code",
      "source": [
        "# You can use for loops to cycle through a list\n",
        "grocery_list = ['Juice', 'Tomatoes', 'Potatoes', 'Bananas']\n",
        "\n",
        "for i in grocery_list:\n",
        "    print(i)"
      ],
      "metadata": {
        "colab": {
          "base_uri": "https://localhost:8080/"
        },
        "id": "3um_08vzoAtP",
        "outputId": "72e64465-3d04-4983-a780-aa242c389b93"
      },
      "execution_count": 50,
      "outputs": [
        {
          "output_type": "stream",
          "name": "stdout",
          "text": [
            "Juice\n",
            "Tomatoes\n",
            "Potatoes\n",
            "Bananas\n"
          ]
        }
      ]
    },
    {
      "cell_type": "code",
      "source": [
        "# You can also define a list of numbers to cycle through\n",
        "for x in [3,5,7,11,13,17]:\n",
        "    print(x)"
      ],
      "metadata": {
        "colab": {
          "base_uri": "https://localhost:8080/"
        },
        "id": "GtkV8SqroQn5",
        "outputId": "61a77109-d6a9-44bd-b21a-c04a1fabf7e5"
      },
      "execution_count": 51,
      "outputs": [
        {
          "output_type": "stream",
          "name": "stdout",
          "text": [
            "3\n",
            "5\n",
            "7\n",
            "11\n",
            "13\n",
            "17\n"
          ]
        }
      ]
    },
    {
      "cell_type": "code",
      "source": [
        "# You can double up for loops to cycle through lists\n",
        "num_list =[[1,2,3],[10,20,30],[100,200,300]];\n",
        "\n",
        "for x in range(0,3):\n",
        "    for y in range(0,3):\n",
        "        print(num_list[x][y])"
      ],
      "metadata": {
        "colab": {
          "base_uri": "https://localhost:8080/"
        },
        "id": "hQnwpR6DoSDd",
        "outputId": "01c9c6c6-7782-49fa-df71-446fd5a713d4"
      },
      "execution_count": 52,
      "outputs": [
        {
          "output_type": "stream",
          "name": "stdout",
          "text": [
            "1\n",
            "2\n",
            "3\n",
            "10\n",
            "20\n",
            "30\n",
            "100\n",
            "200\n",
            "300\n"
          ]
        }
      ]
    },
    {
      "cell_type": "code",
      "source": [
        "# WHILE LOOPS -------------\n",
        "# While loops are used when you don't know ahead of time how many\n",
        "# times you'll have to loop\n",
        "random_num = random.randrange(0,25)\n",
        "\n",
        "while (random_num != 17):\n",
        "    print(random_num)\n",
        "    random_num = random.randrange(0,25)"
      ],
      "metadata": {
        "colab": {
          "base_uri": "https://localhost:8080/"
        },
        "id": "CN09Ond1oXbx",
        "outputId": "46f5d8e8-f0d1-4349-9888-518998cd9bb5"
      },
      "execution_count": 53,
      "outputs": [
        {
          "output_type": "stream",
          "name": "stdout",
          "text": [
            "16\n",
            "13\n",
            "5\n",
            "0\n",
            "19\n",
            "6\n",
            "13\n",
            "10\n",
            "11\n",
            "6\n",
            "23\n",
            "24\n",
            "15\n",
            "15\n",
            "20\n",
            "21\n",
            "2\n",
            "0\n",
            "15\n",
            "10\n",
            "10\n",
            "3\n",
            "23\n",
            "0\n",
            "20\n",
            "1\n",
            "23\n",
            "15\n",
            "9\n",
            "0\n",
            "12\n",
            "5\n",
            "15\n",
            "9\n",
            "1\n",
            "18\n",
            "22\n",
            "24\n"
          ]
        }
      ]
    },
    {
      "cell_type": "code",
      "source": [
        "# An iterator for a while loop is defined before the loop\n",
        "i = 0;\n",
        "while (i <= 20):\n",
        "    if(i%2 == 0):\n",
        "        print(i)\n",
        "    elif(i == 9):\n",
        "        # Forces the loop to end all together\n",
        "        break\n",
        "    else:\n",
        "        # Shorthand for i = i + 1\n",
        "        i += 1\n",
        "        # Skips to the next iteration of the loop\n",
        "        continue\n",
        "\n",
        "    i += 1"
      ],
      "metadata": {
        "colab": {
          "base_uri": "https://localhost:8080/"
        },
        "id": "qmvdnqLBocZs",
        "outputId": "018d969c-0143-4192-b7ee-f2ae7a0b157c"
      },
      "execution_count": 54,
      "outputs": [
        {
          "output_type": "stream",
          "name": "stdout",
          "text": [
            "0\n",
            "2\n",
            "4\n",
            "6\n",
            "8\n"
          ]
        }
      ]
    },
    {
      "cell_type": "code",
      "source": [
        "# FUNCTIONS -------------\n",
        "# Functions allow you to reuse and write readable code\n",
        "# Type def (define), function name and parameters it receives\n",
        "# return is used to return something to the caller of the function"
      ],
      "metadata": {
        "id": "TdWNkeKwoltG"
      },
      "execution_count": 55,
      "outputs": []
    },
    {
      "cell_type": "code",
      "source": [
        "def addNumbers(fNum, sNum):\n",
        "    sumNum = fNum + sNum\n",
        "    return sumNum\n",
        "\n",
        "print(addNumbers(1, 4))"
      ],
      "metadata": {
        "colab": {
          "base_uri": "https://localhost:8080/"
        },
        "id": "gp-GbYdronnh",
        "outputId": "4fceb2cb-525c-4220-f5dd-156ddadb6516"
      },
      "execution_count": 56,
      "outputs": [
        {
          "output_type": "stream",
          "name": "stdout",
          "text": [
            "5\n"
          ]
        }
      ]
    },
    {
      "cell_type": "code",
      "source": [
        "# Can't get the value of rNum because it was created in a function\n",
        "# It is said to be out of scope\n",
        "# print(sumNum)\n",
        "\n",
        "# If you define a variable outside of the function it works every place\n",
        "newNum = 0;\n",
        "def subNumbers(fNum, sNum):\n",
        "    newNum = fNum - sNum\n",
        "    return newNum\n",
        "\n",
        "print(subNumbers(1, 4))"
      ],
      "metadata": {
        "colab": {
          "base_uri": "https://localhost:8080/"
        },
        "id": "LC1rICMRpEYb",
        "outputId": "65b9df19-fe80-474e-ee02-6f85f859cbf6"
      },
      "execution_count": 57,
      "outputs": [
        {
          "output_type": "stream",
          "name": "stdout",
          "text": [
            "-3\n"
          ]
        }
      ]
    },
    {
      "cell_type": "code",
      "source": [
        "# USER INPUT -------------\n",
        "print('What is your name?')"
      ],
      "metadata": {
        "colab": {
          "base_uri": "https://localhost:8080/"
        },
        "id": "CAtSzRs7pl0B",
        "outputId": "df1d7c4d-53e6-40e9-b187-3b1e1aa90ad8"
      },
      "execution_count": 58,
      "outputs": [
        {
          "output_type": "stream",
          "name": "stdout",
          "text": [
            "What is your name?\n"
          ]
        }
      ]
    },
    {
      "cell_type": "code",
      "source": [
        "# Stores everything typed up until ENTER\n",
        "name = sys.stdin.readline()\n",
        "\n",
        "print('Hello', name)"
      ],
      "metadata": {
        "colab": {
          "base_uri": "https://localhost:8080/"
        },
        "id": "Svq74hoNpoeQ",
        "outputId": "6eeb9a71-91a2-4fae-df9f-994a12a7f76f"
      },
      "execution_count": 59,
      "outputs": [
        {
          "output_type": "stream",
          "name": "stdout",
          "text": [
            "Hello \n"
          ]
        }
      ]
    },
    {
      "cell_type": "code",
      "source": [
        "# STRINGS -------------\n",
        "# A string is a series of characters surrounded by ' or \"\n",
        "long_string = \"theory of Infinity\""
      ],
      "metadata": {
        "id": "TSxiCE5xpsFC"
      },
      "execution_count": 60,
      "outputs": []
    },
    {
      "cell_type": "code",
      "source": [
        "# Retrieve the first 4 characters\n",
        "print(long_string[0:4])\n",
        "\n",
        "# Get the last 5 characters\n",
        "print(long_string[-5:])\n",
        "\n",
        "# Everything up to the last 5 characters\n",
        "print(long_string[:-5])\n",
        "\n",
        "# Concatenate part of a string to another\n",
        "print(long_string[:4] + \" be there\")"
      ],
      "metadata": {
        "colab": {
          "base_uri": "https://localhost:8080/"
        },
        "id": "ZLxrfQsKpvrA",
        "outputId": "d8c3d70d-11b5-4e66-da4b-32d07b94c345"
      },
      "execution_count": 61,
      "outputs": [
        {
          "output_type": "stream",
          "name": "stdout",
          "text": [
            "theo\n",
            "inity\n",
            "theory of Inf\n",
            "theo be there\n"
          ]
        }
      ]
    },
    {
      "cell_type": "code",
      "source": [
        "# String formatting\n",
        "print(\"%c is John's %s letter and his favorite numbers are %d and %.5f\" % ('J', 'favorite', 1, .17))\n",
        "\n"
      ],
      "metadata": {
        "colab": {
          "base_uri": "https://localhost:8080/"
        },
        "id": "CCp-Bt81p9dc",
        "outputId": "d85abad8-6a27-48dc-e49e-d2c8e14f7dc5"
      },
      "execution_count": 62,
      "outputs": [
        {
          "output_type": "stream",
          "name": "stdout",
          "text": [
            "J is John's favorite letter and his favorite numbers are 1 and 0.17000\n"
          ]
        }
      ]
    },
    {
      "cell_type": "code",
      "source": [
        "# Capitalizes the first letter\n",
        "print(long_string.capitalize())"
      ],
      "metadata": {
        "colab": {
          "base_uri": "https://localhost:8080/"
        },
        "id": "GNS43CZpqAQm",
        "outputId": "0eec8dfe-fadd-4cb0-e6f0-d252602b810d"
      },
      "execution_count": 63,
      "outputs": [
        {
          "output_type": "stream",
          "name": "stdout",
          "text": [
            "Theory of infinity\n"
          ]
        }
      ]
    },
    {
      "cell_type": "code",
      "source": [
        "# Returns the index of the start of the string\n",
        "# case sensitive\n",
        "print(long_string.find(\"of\"))"
      ],
      "metadata": {
        "colab": {
          "base_uri": "https://localhost:8080/"
        },
        "id": "M1-V1zkkqK0L",
        "outputId": "9bc40510-363f-472a-e9a4-5eb4c005f06e"
      },
      "execution_count": 64,
      "outputs": [
        {
          "output_type": "stream",
          "name": "stdout",
          "text": [
            "7\n"
          ]
        }
      ]
    },
    {
      "cell_type": "code",
      "source": [
        "# Returns true if all characters are letters ' isn't a letter\n",
        "print(long_string.isalpha())"
      ],
      "metadata": {
        "colab": {
          "base_uri": "https://localhost:8080/"
        },
        "id": "mrYK-fNtqM0U",
        "outputId": "f49c11eb-94d0-40ef-d022-b93d7cc07b50"
      },
      "execution_count": 65,
      "outputs": [
        {
          "output_type": "stream",
          "name": "stdout",
          "text": [
            "False\n"
          ]
        }
      ]
    },
    {
      "cell_type": "code",
      "source": [
        "# Returns true if all characters are numbers\n",
        "print(long_string.isalnum())\n",
        "\n",
        "# Returns the string length\n",
        "print(len(long_string))\n"
      ],
      "metadata": {
        "colab": {
          "base_uri": "https://localhost:8080/"
        },
        "id": "8EVOeyC1rDhn",
        "outputId": "442cf75f-d1b3-43c5-f3c3-52ff36c6bc68"
      },
      "execution_count": 66,
      "outputs": [
        {
          "output_type": "stream",
          "name": "stdout",
          "text": [
            "False\n",
            "18\n"
          ]
        }
      ]
    },
    {
      "cell_type": "code",
      "source": [
        "# Replace the first word with the second (Add a number to replace more)\n",
        "print(long_string.replace(\"of\", \"OF\"))\n",
        "\n",
        "# Remove white space from front and end\n",
        "print(long_string.strip())"
      ],
      "metadata": {
        "colab": {
          "base_uri": "https://localhost:8080/"
        },
        "id": "8xh0CdQ8rNj_",
        "outputId": "4a0fda51-56f1-43ed-a2c4-de3525c96990"
      },
      "execution_count": 67,
      "outputs": [
        {
          "output_type": "stream",
          "name": "stdout",
          "text": [
            "theory OF Infinity\n",
            "theory of Infinity\n"
          ]
        }
      ]
    },
    {
      "cell_type": "code",
      "source": [
        "# Split a string into a list based on the delimiter you provide\n",
        "quote_list = long_string.split(\" \")\n",
        "print(quote_list)\n"
      ],
      "metadata": {
        "colab": {
          "base_uri": "https://localhost:8080/"
        },
        "id": "jKPCXMAsrTtp",
        "outputId": "be3a84d0-8eb3-4c16-98ea-fb7229c59b66"
      },
      "execution_count": 68,
      "outputs": [
        {
          "output_type": "stream",
          "name": "stdout",
          "text": [
            "['theory', 'of', 'Infinity']\n"
          ]
        }
      ]
    },
    {
      "cell_type": "code",
      "source": [
        "# Overwrite or create a file for writing\n",
        "test_file = open(\"test.txt\", \"wb\")"
      ],
      "metadata": {
        "id": "KvuroblBrcgg"
      },
      "execution_count": 69,
      "outputs": []
    },
    {
      "cell_type": "code",
      "source": [
        "# Get the file mode used\n",
        "print(test_file.mode)"
      ],
      "metadata": {
        "colab": {
          "base_uri": "https://localhost:8080/"
        },
        "id": "tni--53urvVO",
        "outputId": "cb233811-cd68-49cd-c80a-d029d9b4be01"
      },
      "execution_count": 70,
      "outputs": [
        {
          "output_type": "stream",
          "name": "stdout",
          "text": [
            "wb\n"
          ]
        }
      ]
    },
    {
      "cell_type": "code",
      "source": [
        "# Get the files name\n",
        "print(test_file.name)\n"
      ],
      "metadata": {
        "colab": {
          "base_uri": "https://localhost:8080/"
        },
        "id": "jyjQSQK1rz8B",
        "outputId": "d4331ff4-6cb7-490a-ad78-1c4ebba02ded"
      },
      "execution_count": 71,
      "outputs": [
        {
          "output_type": "stream",
          "name": "stdout",
          "text": [
            "test.txt\n"
          ]
        }
      ]
    },
    {
      "cell_type": "code",
      "source": [
        "# Write text to a file with a newline\n",
        "test_file.write(bytes(\"Insert into the file\\n\", 'UTF-8'))"
      ],
      "metadata": {
        "colab": {
          "base_uri": "https://localhost:8080/"
        },
        "id": "Ei61YpaTr1ki",
        "outputId": "3d9731fb-8e44-4774-9695-c63e0e0b89cc"
      },
      "execution_count": 72,
      "outputs": [
        {
          "output_type": "execute_result",
          "data": {
            "text/plain": [
              "21"
            ]
          },
          "metadata": {},
          "execution_count": 72
        }
      ]
    },
    {
      "cell_type": "code",
      "source": [
        "# Close the file\n",
        "test_file.close()\n"
      ],
      "metadata": {
        "id": "W3s-vfp0r5oU"
      },
      "execution_count": 73,
      "outputs": []
    },
    {
      "cell_type": "code",
      "source": [
        "# Opens a file for reading and writing\n",
        "test_file = open(\"test.txt\", \"r+\")"
      ],
      "metadata": {
        "id": "6TapJCWpr87m"
      },
      "execution_count": 74,
      "outputs": []
    },
    {
      "cell_type": "code",
      "source": [
        "# Read text from the file\n",
        "text_in_file = test_file.read()"
      ],
      "metadata": {
        "id": "5S4Zv5F5r-at"
      },
      "execution_count": 75,
      "outputs": []
    },
    {
      "cell_type": "code",
      "source": [
        "print(text_in_file)"
      ],
      "metadata": {
        "colab": {
          "base_uri": "https://localhost:8080/"
        },
        "id": "DjMRDMYtsBJX",
        "outputId": "025fca17-fb68-430b-e12b-85b96f48ef7a"
      },
      "execution_count": 76,
      "outputs": [
        {
          "output_type": "stream",
          "name": "stdout",
          "text": [
            "Insert into the file\n",
            "\n"
          ]
        }
      ]
    },
    {
      "cell_type": "code",
      "source": [
        "# Delete the file\n",
        "os.remove(\"test.txt\")\n"
      ],
      "metadata": {
        "id": "fZFpTK7usFnB"
      },
      "execution_count": 77,
      "outputs": []
    },
    {
      "cell_type": "code",
      "source": [
        "class Animal:\n",
        "    # None signifies the lack of a value\n",
        "    # You can make a variable private by starting it with __\n",
        "    __name = None\n",
        "    __height = None\n",
        "    __weight = None\n",
        "    __sound = None"
      ],
      "metadata": {
        "id": "hxLampzjsIu8"
      },
      "execution_count": 78,
      "outputs": []
    },
    {
      "cell_type": "code",
      "source": [
        "class Animal:\n",
        "  __name=''\n",
        "  __height=0\n",
        "  __weight=0\n",
        "  __sound=0\n",
        "  def __init__(self,name,height,weight,sound):\n",
        "    self.__name=name\n",
        "    self.__height=height\n",
        "    self.__weight=weight\n",
        "    self.__sound=sound\n",
        "  def set_name(self,name):\n",
        "    self.__name=name\n",
        "  def set_height(self,height):\n",
        "    self.__height=height\n",
        "  def set_weight(self,weight):\n",
        "    self.__weight=weight\n",
        "  def set_sound(self,sound):\n",
        "    self.__sound=sound\n",
        "  def get_name(self):\n",
        "    return self.__name\n",
        "\n",
        "  def get_height(self):\n",
        "    return str(self.__height)\n",
        "\n",
        "  def get_weight(self):\n",
        "    return str(self.__weight)\n",
        "\n",
        "  def get_sound(self):\n",
        "    return (self.__sound)\n",
        "  def get_type(self):\n",
        "    print('Animal')\n",
        "  def toString(self):\n",
        "    return '{} is {} cm tall and {} kilograms and say {}'.format(self.__name,\n",
        "                                                                 self.__height,\n",
        "                                                                 self.__weight,\n",
        "                                                                 self.__sound)\n",
        "cat=Animal('Whiskers','33','10','Meow')\n",
        "print(cat.toString())\n",
        "\n"
      ],
      "metadata": {
        "colab": {
          "base_uri": "https://localhost:8080/"
        },
        "id": "rqq5Keftso6p",
        "outputId": "38cec6d1-c507-4402-dc33-689f913b5085"
      },
      "execution_count": 79,
      "outputs": [
        {
          "output_type": "stream",
          "name": "stdout",
          "text": [
            "Whiskers is 33 cm tall and 10 kilograms and say Meow\n"
          ]
        }
      ]
    },
    {
      "cell_type": "markdown",
      "source": [
        "INHERITANCE"
      ],
      "metadata": {
        "id": "ihGE1pc1PMgl"
      }
    },
    {
      "cell_type": "code",
      "source": [
        "class Animal:\n",
        "    __name = None\n",
        "    __height = None\n",
        "    __weight = None\n",
        "    __sound = None\n",
        "    def __init__(self, name, height, weight, sound):\n",
        "        self.__name = name\n",
        "        self.__height = height\n",
        "        self.__weight = weight\n",
        "        self.__sound = sound\n",
        "\n",
        "    def set_name(self, name):\n",
        "        self.__name = name\n",
        "\n",
        "    def set_height(self, height):\n",
        "        self.__height = height\n",
        "\n",
        "    def set_weight(self, height):\n",
        "        self.__height = height\n",
        "\n",
        "    def set_sound(self, sound):\n",
        "        self.__sound = sound\n",
        "\n",
        "    def get_name(self):\n",
        "        return self.__name\n",
        "\n",
        "    def get_height(self):\n",
        "        return str(self.__height)\n",
        "\n",
        "    def get_weight(self):\n",
        "        return str(self.__weight)\n",
        "\n",
        "    def get_sound(self):\n",
        "        return self.__sound\n",
        "\n",
        "    def get_type(self):\n",
        "        print(\"Animal\")\n",
        "\n",
        "    def toString(self):\n",
        "        return \"{} is {} cm tall and {} kilograms and says {}\".format(self.__name, self.__height, self.__weight, self.__sound)\n",
        "\n",
        "class Dog(Animal):\n",
        "    __owner = None\n",
        "\n",
        "    def __init__(self, name, height, weight, sound, owner):\n",
        "        self.__owner = owner\n",
        "        self.__animal_type = None\n",
        "\n",
        "        super(Dog, self).__init__(name, height, weight, sound)\n",
        "\n",
        "    def set_owner(self, owner):\n",
        "        self.__owner = owner\n",
        "\n",
        "    def get_owner(self):\n",
        "        return self.__owner\n",
        "\n",
        "    def get_type(self):\n",
        "        print (\"Dog\")\n",
        "\n",
        "    def toString(self):\n",
        "        return \"{} is {} cm tall and {} kilograms and says {}. His owner is {}\".format(self.get_name(), self.get_height(), self.get_weight(), self.get_sound(), self.__owner)\n",
        "\n",
        "    def multiple_sounds(self, how_many=None):\n",
        "        if how_many is None:\n",
        "            print(self.get_sound)\n",
        "        else:\n",
        "            print(self.get_sound() * how_many)\n",
        "\n",
        "spot = Dog(\"Spot\", 53, 27, \"Rwufff \", \"Derek\")\n",
        "\n",
        "print(spot.toString())\n",
        "\n",
        "class AnimalTesting:\n",
        "    def get_type(self, animal):\n",
        "        animal.get_type()\n",
        "\n",
        "test_animals = AnimalTesting()\n",
        "\n",
        "test_animals.get_type(cat)\n",
        "test_animals.get_type(spot)\n",
        "\n",
        "spot.multiple_sounds(4)\n"
      ],
      "metadata": {
        "colab": {
          "base_uri": "https://localhost:8080/"
        },
        "id": "SWhi3097t6Xo",
        "outputId": "f7d5b7b1-6344-4c51-f6e9-0bdf08ad68e5"
      },
      "execution_count": 80,
      "outputs": [
        {
          "output_type": "stream",
          "name": "stdout",
          "text": [
            "Spot is 53 cm tall and 27 kilograms and says Rwufff . His owner is Derek\n",
            "Animal\n",
            "Dog\n",
            "Rwufff Rwufff Rwufff Rwufff \n"
          ]
        }
      ]
    },
    {
      "cell_type": "markdown",
      "source": [
        "Features of advanced colab tutorials"
      ],
      "metadata": {
        "id": "6XQpVDgCPdKz"
      }
    },
    {
      "cell_type": "code",
      "source": [
        "!pip freeze"
      ],
      "metadata": {
        "colab": {
          "base_uri": "https://localhost:8080/"
        },
        "id": "uLYIA4HxQyJK",
        "outputId": "b775cc19-23f3-4db1-9f58-ccebc3c33d60"
      },
      "execution_count": 87,
      "outputs": [
        {
          "output_type": "stream",
          "name": "stdout",
          "text": [
            "absl-py==1.4.0\n",
            "accelerate==1.1.1\n",
            "aiohappyeyeballs==2.4.4\n",
            "aiohttp==3.11.9\n",
            "aiosignal==1.3.1\n",
            "alabaster==1.0.0\n",
            "albucore==0.0.19\n",
            "albumentations==1.4.20\n",
            "altair==4.2.2\n",
            "annotated-types==0.7.0\n",
            "anyio==3.7.1\n",
            "argon2-cffi==23.1.0\n",
            "argon2-cffi-bindings==21.2.0\n",
            "array_record==0.5.1\n",
            "arviz==0.20.0\n",
            "astropy==6.1.7\n",
            "astropy-iers-data==0.2024.12.2.0.35.34\n",
            "astunparse==1.6.3\n",
            "async-timeout==4.0.3\n",
            "atpublic==4.1.0\n",
            "attrs==24.2.0\n",
            "audioread==3.0.1\n",
            "autograd==1.7.0\n",
            "babel==2.16.0\n",
            "backcall==0.2.0\n",
            "beautifulsoup4==4.12.3\n",
            "bigframes==1.27.0\n",
            "bigquery-magics==0.4.0\n",
            "bleach==6.2.0\n",
            "blinker==1.9.0\n",
            "blis==0.7.11\n",
            "blosc2==2.7.1\n",
            "bokeh==3.6.2\n",
            "Bottleneck==1.4.2\n",
            "bqplot==0.12.43\n",
            "branca==0.8.0\n",
            "CacheControl==0.14.1\n",
            "cachetools==5.5.0\n",
            "catalogue==2.0.10\n",
            "certifi==2024.8.30\n",
            "cffi==1.17.1\n",
            "chardet==5.2.0\n",
            "charset-normalizer==3.4.0\n",
            "chex==0.1.87\n",
            "clarabel==0.9.0\n",
            "click==8.1.7\n",
            "cloudpathlib==0.20.0\n",
            "cloudpickle==3.1.0\n",
            "cmake==3.30.5\n",
            "cmdstanpy==1.2.4\n",
            "colorcet==3.1.0\n",
            "colorlover==0.3.0\n",
            "colour==0.1.5\n",
            "community==1.0.0b1\n",
            "confection==0.1.5\n",
            "cons==0.4.6\n",
            "contourpy==1.3.1\n",
            "cryptography==43.0.3\n",
            "cuda-python==12.2.1\n",
            "cudf-cu12 @ https://pypi.nvidia.com/cudf-cu12/cudf_cu12-24.10.1-cp310-cp310-manylinux_2_24_x86_64.manylinux_2_28_x86_64.whl\n",
            "cufflinks==0.17.3\n",
            "cupy-cuda12x==12.2.0\n",
            "cvxopt==1.3.2\n",
            "cvxpy==1.5.4\n",
            "cycler==0.12.1\n",
            "cymem==2.0.10\n",
            "Cython==3.0.11\n",
            "dask==2024.10.0\n",
            "datascience==0.17.6\n",
            "db-dtypes==1.3.1\n",
            "dbus-python==1.2.18\n",
            "debugpy==1.8.0\n",
            "decorator==4.4.2\n",
            "defusedxml==0.7.1\n",
            "Deprecated==1.2.15\n",
            "diffusers==0.31.0\n",
            "distro==1.9.0\n",
            "dlib==19.24.2\n",
            "dm-tree==0.1.8\n",
            "docker-pycreds==0.4.0\n",
            "docstring_parser==0.16\n",
            "docutils==0.21.2\n",
            "dopamine_rl==4.0.9\n",
            "duckdb==1.1.3\n",
            "earthengine-api==1.2.0\n",
            "easydict==1.13\n",
            "ecos==2.0.14\n",
            "editdistance==0.8.1\n",
            "eerepr==0.0.4\n",
            "einops==0.8.0\n",
            "en-core-web-sm @ https://github.com/explosion/spacy-models/releases/download/en_core_web_sm-3.7.1/en_core_web_sm-3.7.1-py3-none-any.whl#sha256=86cc141f63942d4b2c5fcee06630fd6f904788d2f0ab005cce45aadb8fb73889\n",
            "entrypoints==0.4\n",
            "et_xmlfile==2.0.0\n",
            "etils==1.11.0\n",
            "etuples==0.3.9\n",
            "eval_type_backport==0.2.0\n",
            "exceptiongroup==1.2.2\n",
            "fastai==2.7.18\n",
            "fastcore==1.7.22\n",
            "fastdownload==0.0.7\n",
            "fastjsonschema==2.21.1\n",
            "fastprogress==1.0.3\n",
            "fastrlock==0.8.2\n",
            "filelock==3.16.1\n",
            "firebase-admin==6.5.0\n",
            "Flask==3.0.3\n",
            "flatbuffers==24.3.25\n",
            "flax==0.8.5\n",
            "folium==0.18.0\n",
            "fonttools==4.55.1\n",
            "frozendict==2.4.6\n",
            "frozenlist==1.5.0\n",
            "fsspec==2024.10.0\n",
            "future==1.0.0\n",
            "gast==0.6.0\n",
            "gcsfs==2024.10.0\n",
            "GDAL==3.6.4\n",
            "gdown==5.2.0\n",
            "geemap==0.35.1\n",
            "gensim==4.3.3\n",
            "geocoder==1.38.1\n",
            "geographiclib==2.0\n",
            "geopandas==1.0.1\n",
            "geopy==2.4.1\n",
            "gin-config==0.5.0\n",
            "gitdb==4.0.11\n",
            "GitPython==3.1.43\n",
            "glob2==0.7\n",
            "google==2.0.3\n",
            "google-ai-generativelanguage==0.6.10\n",
            "google-api-core==2.19.2\n",
            "google-api-python-client==2.151.0\n",
            "google-auth==2.27.0\n",
            "google-auth-httplib2==0.2.0\n",
            "google-auth-oauthlib==1.2.1\n",
            "google-cloud-aiplatform==1.73.0\n",
            "google-cloud-bigquery==3.25.0\n",
            "google-cloud-bigquery-connection==1.16.1\n",
            "google-cloud-bigquery-storage==2.27.0\n",
            "google-cloud-bigtable==2.27.0\n",
            "google-cloud-core==2.4.1\n",
            "google-cloud-datastore==2.20.1\n",
            "google-cloud-firestore==2.19.0\n",
            "google-cloud-functions==1.18.1\n",
            "google-cloud-iam==2.16.1\n",
            "google-cloud-language==2.15.1\n",
            "google-cloud-pubsub==2.27.1\n",
            "google-cloud-resource-manager==1.13.1\n",
            "google-cloud-storage==2.8.0\n",
            "google-cloud-translate==3.17.0\n",
            "google-colab @ file:///colabtools/dist/google_colab-1.0.0.tar.gz\n",
            "google-crc32c==1.6.0\n",
            "google-generativeai==0.8.3\n",
            "google-pasta==0.2.0\n",
            "google-resumable-media==2.7.2\n",
            "googleapis-common-protos==1.66.0\n",
            "googledrivedownloader==0.4\n",
            "graphviz==0.20.3\n",
            "greenlet==3.1.1\n",
            "grpc-google-iam-v1==0.13.1\n",
            "grpcio==1.68.1\n",
            "grpcio-status==1.62.3\n",
            "gspread==6.0.2\n",
            "gspread-dataframe==3.3.1\n",
            "gym==0.25.2\n",
            "gym-notices==0.0.8\n",
            "h11==0.14.0\n",
            "h5netcdf==1.4.1\n",
            "h5py==3.12.1\n",
            "holidays==0.62\n",
            "holoviews==1.20.0\n",
            "html5lib==1.1\n",
            "httpcore==1.0.7\n",
            "httpimport==1.4.0\n",
            "httplib2==0.22.0\n",
            "httpx==0.28.0\n",
            "huggingface-hub==0.26.3\n",
            "humanize==4.11.0\n",
            "hyperopt==0.2.7\n",
            "ibis-framework==9.2.0\n",
            "idna==3.10\n",
            "imageio==2.36.1\n",
            "imageio-ffmpeg==0.5.1\n",
            "imagesize==1.4.1\n",
            "imbalanced-learn==0.12.4\n",
            "imgaug==0.4.0\n",
            "immutabledict==4.2.1\n",
            "importlib_metadata==8.5.0\n",
            "importlib_resources==6.4.5\n",
            "imutils==0.5.4\n",
            "inflect==7.4.0\n",
            "iniconfig==2.0.0\n",
            "intel-cmplr-lib-ur==2025.0.3\n",
            "intel-openmp==2025.0.3\n",
            "ipyevents==2.0.2\n",
            "ipyfilechooser==0.6.0\n",
            "ipykernel==5.5.6\n",
            "ipyleaflet==0.19.2\n",
            "ipyparallel==8.8.0\n",
            "ipython==7.34.0\n",
            "ipython-genutils==0.2.0\n",
            "ipython-sql==0.5.0\n",
            "ipytree==0.2.2\n",
            "ipywidgets==7.7.1\n",
            "itsdangerous==2.2.0\n",
            "jax==0.4.33\n",
            "jax-cuda12-pjrt==0.4.33\n",
            "jax-cuda12-plugin==0.4.33\n",
            "jaxlib==0.4.33\n",
            "jeepney==0.7.1\n",
            "jellyfish==1.1.2\n",
            "jieba==0.42.1\n",
            "Jinja2==3.1.4\n",
            "jiter==0.8.0\n",
            "joblib==1.4.2\n",
            "jsonpatch==1.33\n",
            "jsonpickle==4.0.0\n",
            "jsonpointer==3.0.0\n",
            "jsonschema==4.23.0\n",
            "jsonschema-specifications==2024.10.1\n",
            "jupyter-client==6.1.12\n",
            "jupyter-console==6.1.0\n",
            "jupyter-leaflet==0.19.2\n",
            "jupyter-server==1.24.0\n",
            "jupyter_core==5.7.2\n",
            "jupyterlab_pygments==0.3.0\n",
            "jupyterlab_widgets==3.0.13\n",
            "kaggle==1.6.17\n",
            "kagglehub==0.3.4\n",
            "keras==3.5.0\n",
            "keyring==23.5.0\n",
            "kiwisolver==1.4.7\n",
            "langchain==0.3.9\n",
            "langchain-core==0.3.21\n",
            "langchain-text-splitters==0.3.2\n",
            "langcodes==3.5.0\n",
            "langsmith==0.1.147\n",
            "language_data==1.3.0\n",
            "launchpadlib==1.10.16\n",
            "lazr.restfulclient==0.14.4\n",
            "lazr.uri==1.0.6\n",
            "lazy_loader==0.4\n",
            "libclang==18.1.1\n",
            "libcudf-cu12 @ https://pypi.nvidia.com/libcudf-cu12/libcudf_cu12-24.10.1-py3-none-manylinux_2_28_x86_64.whl\n",
            "librosa==0.10.2.post1\n",
            "lightgbm==4.5.0\n",
            "linkify-it-py==2.0.3\n",
            "llvmlite==0.43.0\n",
            "locket==1.0.0\n",
            "logical-unification==0.4.6\n",
            "lxml==5.3.0\n",
            "marisa-trie==1.2.1\n",
            "Markdown==3.7\n",
            "markdown-it-py==3.0.0\n",
            "MarkupSafe==3.0.2\n",
            "matplotlib==3.8.0\n",
            "matplotlib-inline==0.1.7\n",
            "matplotlib-venn==1.1.1\n",
            "mdit-py-plugins==0.4.2\n",
            "mdurl==0.1.2\n",
            "miniKanren==1.0.3\n",
            "missingno==0.5.2\n",
            "mistune==3.0.2\n",
            "mizani==0.13.0\n",
            "mkl==2025.0.1\n",
            "ml-dtypes==0.4.1\n",
            "mlxtend==0.23.3\n",
            "more-itertools==10.5.0\n",
            "moviepy==1.0.3\n",
            "mpmath==1.3.0\n",
            "msgpack==1.1.0\n",
            "multidict==6.1.0\n",
            "multipledispatch==1.0.0\n",
            "multitasking==0.0.11\n",
            "murmurhash==1.0.11\n",
            "music21==9.3.0\n",
            "namex==0.0.8\n",
            "natsort==8.4.0\n",
            "nbclassic==1.1.0\n",
            "nbclient==0.10.1\n",
            "nbconvert==7.16.4\n",
            "nbformat==5.10.4\n",
            "ndindex==1.9.2\n",
            "nest-asyncio==1.6.0\n",
            "networkx==3.4.2\n",
            "nibabel==5.3.2\n",
            "nltk==3.9.1\n",
            "notebook==6.5.5\n",
            "notebook_shim==0.2.4\n",
            "numba==0.60.0\n",
            "numexpr==2.10.2\n",
            "numpy==1.26.4\n",
            "nvidia-cublas-cu12==12.6.4.1\n",
            "nvidia-cuda-cupti-cu12==12.6.80\n",
            "nvidia-cuda-nvcc-cu12==12.6.85\n",
            "nvidia-cuda-runtime-cu12==12.6.77\n",
            "nvidia-cudnn-cu12==9.6.0.74\n",
            "nvidia-cufft-cu12==11.3.0.4\n",
            "nvidia-curand-cu12==10.3.7.77\n",
            "nvidia-cusolver-cu12==11.7.1.2\n",
            "nvidia-cusparse-cu12==12.5.4.2\n",
            "nvidia-nccl-cu12==2.23.4\n",
            "nvidia-nvjitlink-cu12==12.6.85\n",
            "nvtx==0.2.10\n",
            "nx-cugraph-cu12 @ https://pypi.nvidia.com/nx-cugraph-cu12/nx_cugraph_cu12-24.10.0-py3-none-any.whl\n",
            "oauth2client==4.1.3\n",
            "oauthlib==3.2.2\n",
            "openai==1.54.5\n",
            "opencv-contrib-python==4.10.0.84\n",
            "opencv-python==4.10.0.84\n",
            "opencv-python-headless==4.10.0.84\n",
            "openpyxl==3.1.5\n",
            "opentelemetry-api==1.28.2\n",
            "opentelemetry-sdk==1.28.2\n",
            "opentelemetry-semantic-conventions==0.49b2\n",
            "opt_einsum==3.4.0\n",
            "optax==0.2.4\n",
            "optree==0.13.1\n",
            "orbax-checkpoint==0.6.4\n",
            "orjson==3.10.12\n",
            "osqp==0.6.7.post3\n",
            "packaging==24.2\n",
            "pandas==2.2.2\n",
            "pandas-datareader==0.10.0\n",
            "pandas-gbq==0.24.0\n",
            "pandas-stubs==2.2.2.240909\n",
            "pandocfilters==1.5.1\n",
            "panel==1.5.4\n",
            "param==2.1.1\n",
            "parso==0.8.4\n",
            "parsy==2.1\n",
            "partd==1.4.2\n",
            "pathlib==1.0.1\n",
            "patsy==1.0.1\n",
            "peewee==3.17.8\n",
            "peft==0.13.2\n",
            "pexpect==4.9.0\n",
            "pickleshare==0.7.5\n",
            "pillow==11.0.0\n",
            "platformdirs==4.3.6\n",
            "plotly==5.24.1\n",
            "plotnine==0.14.3\n",
            "pluggy==1.5.0\n",
            "ply==3.11\n",
            "polars==1.9.0\n",
            "pooch==1.8.2\n",
            "portpicker==1.5.2\n",
            "preshed==3.0.9\n",
            "prettytable==3.12.0\n",
            "proglog==0.1.10\n",
            "progressbar2==4.5.0\n",
            "prometheus_client==0.21.1\n",
            "promise==2.3\n",
            "prompt_toolkit==3.0.48\n",
            "propcache==0.2.1\n",
            "prophet==1.1.6\n",
            "proto-plus==1.25.0\n",
            "protobuf==4.25.5\n",
            "psutil==5.9.5\n",
            "psycopg2==2.9.10\n",
            "ptyprocess==0.7.0\n",
            "py-cpuinfo==9.0.0\n",
            "py4j==0.10.9.7\n",
            "pyarrow==17.0.0\n",
            "pyarrow-hotfix==0.6\n",
            "pyasn1==0.6.1\n",
            "pyasn1_modules==0.4.1\n",
            "pycocotools==2.0.8\n",
            "pycparser==2.22\n",
            "pydantic==2.10.3\n",
            "pydantic_core==2.27.1\n",
            "pydata-google-auth==1.9.0\n",
            "pydot==3.0.3\n",
            "pydotplus==2.0.2\n",
            "PyDrive==1.3.1\n",
            "PyDrive2==1.21.3\n",
            "pyerfa==2.0.1.5\n",
            "pygame==2.6.1\n",
            "pygit2==1.16.0\n",
            "Pygments==2.18.0\n",
            "PyGObject==3.42.1\n",
            "PyJWT==2.10.1\n",
            "pylibcudf-cu12 @ https://pypi.nvidia.com/pylibcudf-cu12/pylibcudf_cu12-24.10.1-cp310-cp310-manylinux_2_24_x86_64.manylinux_2_28_x86_64.whl\n",
            "pylibcugraph-cu12==24.10.0\n",
            "pylibraft-cu12==24.10.0\n",
            "pymc==5.18.2\n",
            "pymystem3==0.2.0\n",
            "pynvjitlink-cu12==0.4.0\n",
            "pyogrio==0.10.0\n",
            "Pyomo==6.8.2\n",
            "PyOpenGL==3.1.7\n",
            "pyOpenSSL==24.2.1\n",
            "pyparsing==3.2.0\n",
            "pyperclip==1.9.0\n",
            "pyproj==3.7.0\n",
            "pyshp==2.3.1\n",
            "PySocks==1.7.1\n",
            "pyspark==3.5.3\n",
            "pytensor==2.26.4\n",
            "pytest==8.3.4\n",
            "python-apt==0.0.0\n",
            "python-box==7.2.0\n",
            "python-dateutil==2.8.2\n",
            "python-louvain==0.16\n",
            "python-slugify==8.0.4\n",
            "python-utils==3.9.1\n",
            "pytz==2024.2\n",
            "pyviz_comms==3.0.3\n",
            "PyYAML==6.0.2\n",
            "pyzmq==24.0.1\n",
            "qdldl==0.1.7.post4\n",
            "ratelim==0.1.6\n",
            "referencing==0.35.1\n",
            "regex==2024.9.11\n",
            "requests==2.32.3\n",
            "requests-oauthlib==1.3.1\n",
            "requests-toolbelt==1.0.0\n",
            "requirements-parser==0.9.0\n",
            "rich==13.9.4\n",
            "rmm-cu12==24.10.0\n",
            "rpds-py==0.22.3\n",
            "rpy2==3.4.2\n",
            "rsa==4.9\n",
            "safetensors==0.4.5\n",
            "scikit-image==0.24.0\n",
            "scikit-learn==1.5.2\n",
            "scipy==1.13.1\n",
            "scooby==0.10.0\n",
            "scs==3.2.7\n",
            "seaborn==0.13.2\n",
            "SecretStorage==3.3.1\n",
            "Send2Trash==1.8.3\n",
            "sentence-transformers==3.2.1\n",
            "sentencepiece==0.2.0\n",
            "sentry-sdk==2.19.0\n",
            "setproctitle==1.3.4\n",
            "shap==0.46.0\n",
            "shapely==2.0.6\n",
            "shellingham==1.5.4\n",
            "simple-parsing==0.1.6\n",
            "six==1.16.0\n",
            "sklearn-pandas==2.2.0\n",
            "slicer==0.0.8\n",
            "smart-open==7.0.5\n",
            "smmap==5.0.1\n",
            "sniffio==1.3.1\n",
            "snowballstemmer==2.2.0\n",
            "soundfile==0.12.1\n",
            "soupsieve==2.6\n",
            "soxr==0.5.0.post1\n",
            "spacy==3.7.5\n",
            "spacy-legacy==3.0.12\n",
            "spacy-loggers==1.0.5\n",
            "Sphinx==8.1.3\n",
            "sphinxcontrib-applehelp==2.0.0\n",
            "sphinxcontrib-devhelp==2.0.0\n",
            "sphinxcontrib-htmlhelp==2.1.0\n",
            "sphinxcontrib-jsmath==1.0.1\n",
            "sphinxcontrib-qthelp==2.0.0\n",
            "sphinxcontrib-serializinghtml==2.0.0\n",
            "SQLAlchemy==2.0.36\n",
            "sqlglot==25.1.0\n",
            "sqlparse==0.5.2\n",
            "srsly==2.4.8\n",
            "stanio==0.5.1\n",
            "statsmodels==0.14.4\n",
            "StrEnum==0.4.15\n",
            "stringzilla==3.11.0\n",
            "sympy==1.13.1\n",
            "tables==3.10.1\n",
            "tabulate==0.9.0\n",
            "tbb==2022.0.0\n",
            "tcmlib==1.2.0\n",
            "tenacity==9.0.0\n",
            "tensorboard==2.17.1\n",
            "tensorboard-data-server==0.7.2\n",
            "tensorflow==2.17.1\n",
            "tensorflow-datasets==4.9.7\n",
            "tensorflow-hub==0.16.1\n",
            "tensorflow-io-gcs-filesystem==0.37.1\n",
            "tensorflow-metadata==1.13.1\n",
            "tensorflow-probability==0.24.0\n",
            "tensorstore==0.1.69\n",
            "termcolor==2.5.0\n",
            "terminado==0.18.1\n",
            "text-unidecode==1.3\n",
            "textblob==0.17.1\n",
            "tf-slim==1.1.0\n",
            "tf_keras==2.17.0\n",
            "thinc==8.2.5\n",
            "threadpoolctl==3.5.0\n",
            "tifffile==2024.9.20\n",
            "timm==1.0.12\n",
            "tinycss2==1.4.0\n",
            "tokenizers==0.20.3\n",
            "toml==0.10.2\n",
            "tomli==2.2.1\n",
            "toolz==0.12.1\n",
            "torch @ https://download.pytorch.org/whl/cu121_full/torch-2.5.1%2Bcu121-cp310-cp310-linux_x86_64.whl\n",
            "torchaudio @ https://download.pytorch.org/whl/cu121/torchaudio-2.5.1%2Bcu121-cp310-cp310-linux_x86_64.whl\n",
            "torchsummary==1.5.1\n",
            "torchvision @ https://download.pytorch.org/whl/cu121/torchvision-0.20.1%2Bcu121-cp310-cp310-linux_x86_64.whl\n",
            "tornado==6.3.3\n",
            "tqdm==4.66.6\n",
            "traitlets==5.7.1\n",
            "traittypes==0.2.1\n",
            "transformers==4.46.3\n",
            "tweepy==4.14.0\n",
            "typeguard==4.4.1\n",
            "typer==0.15.0\n",
            "types-pytz==2024.2.0.20241003\n",
            "types-setuptools==75.6.0.20241126\n",
            "typing_extensions==4.12.2\n",
            "tzdata==2024.2\n",
            "tzlocal==5.2\n",
            "uc-micro-py==1.0.3\n",
            "umf==0.9.1\n",
            "uritemplate==4.1.1\n",
            "urllib3==2.2.3\n",
            "vega-datasets==0.9.0\n",
            "wadllib==1.3.6\n",
            "wandb==0.18.7\n",
            "wasabi==1.1.3\n",
            "wcwidth==0.2.13\n",
            "weasel==0.4.1\n",
            "webcolors==24.11.1\n",
            "webencodings==0.5.1\n",
            "websocket-client==1.8.0\n",
            "Werkzeug==3.1.3\n",
            "widgetsnbextension==3.6.10\n",
            "wordcloud==1.9.4\n",
            "wrapt==1.17.0\n",
            "xarray==2024.10.0\n",
            "xarray-einstats==0.8.0\n",
            "xgboost==2.1.3\n",
            "xlrd==2.0.1\n",
            "xyzservices==2024.9.0\n",
            "yarl==1.18.3\n",
            "yellowbrick==1.5\n",
            "yfinance==0.2.50\n",
            "zipp==3.21.0\n"
          ]
        }
      ]
    },
    {
      "cell_type": "code",
      "source": [
        "import re\n",
        "from IPython.display import HTML\n",
        "from IPython.core.magic import register_cell_magic"
      ],
      "metadata": {
        "id": "1dXojvapQ9rn"
      },
      "execution_count": 88,
      "outputs": []
    },
    {
      "cell_type": "code",
      "source": [
        "def var_sub(m):\n",
        "  v=globals()[m[1]]\n",
        "  if(type(v)!=str):\n",
        "    v=repr(v)\n",
        "  return v"
      ],
      "metadata": {
        "id": "JNTlw_c7Q_Kc"
      },
      "execution_count": 89,
      "outputs": []
    },
    {
      "cell_type": "code",
      "source": [
        "from IPython.display import HTML, Image\n",
        "from google.colab.output import eval_js\n",
        "from base64 import b64decode"
      ],
      "metadata": {
        "id": "fnjISPayRBYh"
      },
      "execution_count": 90,
      "outputs": []
    },
    {
      "cell_type": "code",
      "source": [
        "import re\n",
        "from IPython.display import HTML, display\n",
        "\n",
        "def var_sub(match):\n",
        "    variables = {\n",
        "        'name': 'Alan',\n",
        "        'age': '35'\n",
        "    }\n",
        "    return variables.get(match.group(1), f'{{{{{match.group(1)}}}}}')\n",
        "\n",
        "def javascript(line='', cell=''):\n",
        "    cell = re.sub(r'\\{\\{(\\w+)+}}', var_sub, cell)\n",
        "    m = re.match(r'\\w+', line)\n",
        "\n",
        "    if m:\n",
        "        globals()[m[0]] = cell\n",
        "        print(f\"Global variable '{m[0]}' has been set to: {globals()[m[0]]}\")\n",
        "    else:\n",
        "        display(HTML('''<p>File \"<ipython-input>\", line 7<br>display(HTML(...))<br>&nbsp;&nbsp;&nbsp;&nbsp;&nbsp;&nbsp;&nbsp;&nbsp;^<br>SyntaxError: incomplete input</p>'''))\n",
        "\n",
        "line = 'myVariable'\n",
        "cell = 'Hello {{name}}, you are {{age}} years old.'\n",
        "\n",
        "javascript(line, cell)\n",
        "\n",
        "print(f\"Accessing global variable 'string': {myVariable}\")\n"
      ],
      "metadata": {
        "id": "kw-S1iH5i3Va",
        "colab": {
          "base_uri": "https://localhost:8080/"
        },
        "outputId": "7da1b65c-31fa-49fa-f047-b7443fa76dc1"
      },
      "execution_count": 91,
      "outputs": [
        {
          "output_type": "stream",
          "name": "stdout",
          "text": [
            "Global variable 'myVariable' has been set to: Hello Alan, you are 35 years old.\n",
            "Accessing global variable 'string': Hello Alan, you are 35 years old.\n"
          ]
        }
      ]
    },
    {
      "cell_type": "code",
      "source": [
        "def take_photo(filename='photo.jpg', quality=0.8):\n",
        "\tdisplay (HTML (VIDEO_HTML % quality))\n",
        "\tdata = eval_js(\"data\")\n",
        "\tbinary=b64decode(data.split(',')[1])\n",
        "\twith open(filename, 'wb') as f:\n",
        "\t\tf.write(binary)\n",
        "\treturn len(binary)"
      ],
      "metadata": {
        "id": "PwYnu74IRD6i"
      },
      "execution_count": 92,
      "outputs": []
    }
  ]
}